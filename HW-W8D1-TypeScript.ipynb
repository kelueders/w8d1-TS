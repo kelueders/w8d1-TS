{
 "cells": [
  {
   "cell_type": "markdown",
   "id": "40cb569b",
   "metadata": {},
   "source": [
    "<a id=\"hw\"></a>\n",
    "\n",
    "# Homework"
   ]
  },
  {
   "cell_type": "markdown",
   "id": "434064b1",
   "metadata": {},
   "source": [
    "#### Question #1"
   ]
  },
  {
   "cell_type": "code",
   "execution_count": 7,
   "id": "3efc4ff0",
   "metadata": {},
   "outputs": [],
   "source": [
    "// Create a type to represent the following instances of CTStudent Also declare \n",
    "// three 3 students below as type CTStudent and set their values\n",
    "\n",
    "let student1 = {\n",
    "    id: 'GMK435&g62L00',\n",
    "    name: 'John Smith',\n",
    "    age: 24,\n",
    "    isTired: true,\n",
    "    projectsCompleted:[\"HTML Portfolio\", \"Fakebook\", \"Pokemon API Project\", \"Weather Bug\"],\n",
    "    pet: 'dog'\n",
    "}\n",
    "\n",
    "let student2= {\n",
    "    id: '6KGS%54GmlY76',\n",
    "    name: 'Jenny Hawthorne',\n",
    "    age: 28,\n",
    "    isTired: false,\n",
    "    projectsCompleted:[\"HTML Portfolio\"],\n",
    "}\n",
    "\n",
    "let student3 = {\n",
    "    id: '6KGS%54GmlY76',\n",
    "    name: 'Neo',\n",
    "    age: 57,\n",
    "    isTired: true,\n",
    "    projectsCompleted:[\"Matrix\",\"Biological Interface Program\"],\n",
    "    pet:'cat'\n",
    "}"
   ]
  },
  {
   "cell_type": "code",
   "execution_count": 8,
   "id": "5f58226f",
   "metadata": {},
   "outputs": [
    {
     "name": "stdout",
     "output_type": "stream",
     "text": [
      "{\n",
      "  id: \u001b[32m'GMK435&g62L00'\u001b[39m,\n",
      "  name: \u001b[32m'John Smith'\u001b[39m,\n",
      "  age: \u001b[33m24\u001b[39m,\n",
      "  isTired: \u001b[33mtrue\u001b[39m,\n",
      "  projectsCompleted: [\n",
      "    \u001b[32m'HTML Portfolio'\u001b[39m,\n",
      "    \u001b[32m'Fakebook'\u001b[39m,\n",
      "    \u001b[32m'Pokemon API Project'\u001b[39m,\n",
      "    \u001b[32m'Weather Bug'\u001b[39m\n",
      "  ],\n",
      "  pet: \u001b[32m'dog'\u001b[39m\n",
      "}\n",
      "{\n",
      "  id: \u001b[32m'6KGS%54GmlY76'\u001b[39m,\n",
      "  name: \u001b[32m'Jenny Hawthorne'\u001b[39m,\n",
      "  age: \u001b[33m28\u001b[39m,\n",
      "  isTired: \u001b[33mfalse\u001b[39m,\n",
      "  projectsCompleted: [ \u001b[32m'HTML Portfolio'\u001b[39m ]\n",
      "}\n",
      "{\n",
      "  id: \u001b[32m'6KGS%54GmlY76'\u001b[39m,\n",
      "  name: \u001b[32m'Neo'\u001b[39m,\n",
      "  age: \u001b[33m57\u001b[39m,\n",
      "  isTired: \u001b[33mtrue\u001b[39m,\n",
      "  projectsCompleted: [ \u001b[32m'Matrix'\u001b[39m, \u001b[32m'Biological Interface Program'\u001b[39m ],\n",
      "  pet: \u001b[32m'cat'\u001b[39m\n",
      "}\n"
     ]
    }
   ],
   "source": [
    "//Answer\n",
    "\n",
    "type CTStudent = {\n",
    "    id: string,\n",
    "    name: string,\n",
    "    age: number,\n",
    "    isTired: boolean,\n",
    "    projectsCompleted: string[],\n",
    "    pet?: string\n",
    "}\n",
    "\n",
    "let student1: CTStudent = {\n",
    "    id: 'GMK435&g62L00',\n",
    "    name: 'John Smith',\n",
    "    age: 24,\n",
    "    isTired: true,\n",
    "    projectsCompleted:[\"HTML Portfolio\", \"Fakebook\", \"Pokemon API Project\", \"Weather Bug\"],\n",
    "    pet: 'dog'\n",
    "}\n",
    "\n",
    "let student2: CTStudent = {\n",
    "    id: '6KGS%54GmlY76',\n",
    "    name: 'Jenny Hawthorne',\n",
    "    age: 28,\n",
    "    isTired: false,\n",
    "    projectsCompleted:[\"HTML Portfolio\"],\n",
    "}\n",
    "\n",
    "let student3: CTStudent = {\n",
    "    id: '6KGS%54GmlY76',\n",
    "    name: 'Neo',\n",
    "    age: 57,\n",
    "    isTired: true,\n",
    "    projectsCompleted:[\"Matrix\",\"Biological Interface Program\"],\n",
    "    pet:'cat'\n",
    "}\n",
    "\n",
    "console.log(student1)\n",
    "console.log(student2)\n",
    "console.log(student3)"
   ]
  },
  {
   "cell_type": "markdown",
   "id": "e8f90969",
   "metadata": {},
   "source": [
    "#### Question #2"
   ]
  },
  {
   "cell_type": "markdown",
   "id": "cd85c820",
   "metadata": {},
   "source": [
    "Write a function that will accept an object of type `Fruit`, the object of type Fruit could also be `null`.  If their is a Fruit print the color of the fruit, otherwise print `You ate my fruit already`. Be sure to annotate the return type of the function."
   ]
  },
  {
   "cell_type": "code",
   "execution_count": 9,
   "id": "af7af9c6",
   "metadata": {},
   "outputs": [
    {
     "name": "stdout",
     "output_type": "stream",
     "text": [
      "You ate my fruit already\n"
     ]
    }
   ],
   "source": [
    "//Given\n",
    "type Fruit={\n",
    "    color:string,\n",
    "    shape:string\n",
    "}\n",
    "\n",
    "let apple:Fruit={color:\"red\", shape:\"sphere\"}\n",
    "let eaten:Fruit=null\n",
    "\n",
    "//Answer\n",
    "function isItFruit(myFruit: Fruit | null): string {\n",
    "    if (myFruit) {\n",
    "        return myFruit.color\n",
    "    } else {\n",
    "        return 'You ate my fruit already'\n",
    "    }\n",
    "}\n",
    "\n",
    "isItFruit(apple)\n",
    "isItFruit(eaten)"
   ]
  },
  {
   "cell_type": "markdown",
   "id": "a413570d",
   "metadata": {},
   "source": [
    "#### Question #3"
   ]
  },
  {
   "cell_type": "markdown",
   "id": "ca8a453c",
   "metadata": {},
   "source": [
    "Create a Union Type named `Ebook` for `Book` and `DigitalBook` and create one instance of the new union type"
   ]
  },
  {
   "cell_type": "code",
   "execution_count": 10,
   "id": "4089f1af",
   "metadata": {},
   "outputs": [
    {
     "name": "stdout",
     "output_type": "stream",
     "text": [
      "{\n",
      "  isbn: \u001b[32m'458-542-89-456'\u001b[39m,\n",
      "  title: \u001b[32m'Finding Fish'\u001b[39m,\n",
      "  author: \u001b[32m'Antwone Quenton Fisher'\u001b[39m,\n",
      "  fileType: \u001b[32m'kindle'\u001b[39m\n",
      "}\n"
     ]
    }
   ],
   "source": [
    "//Given \n",
    "type Book={\n",
    "    isbn:string,\n",
    "    title:string,\n",
    "    author:string\n",
    "}\n",
    "\n",
    "type DigitalBook={\n",
    "    fileType:string,\n",
    "}\n",
    "\n",
    "//Answer\n",
    "type Ebook = Book & DigitalBook\n",
    "\n",
    "let bookOne: Ebook = {\n",
    "    isbn: '458-542-89-456',\n",
    "    title: 'Finding Fish',\n",
    "    author: 'Antwone Quenton Fisher',\n",
    "    fileType: 'kindle'\n",
    "}\n",
    "\n",
    "console.log(bookOne)"
   ]
  },
  {
   "cell_type": "markdown",
   "id": "e802c165",
   "metadata": {},
   "source": [
    "#### Question #4"
   ]
  },
  {
   "cell_type": "markdown",
   "id": "044bfc91",
   "metadata": {},
   "source": [
    "Create a Type to represent a `ShopItem` that will fit the following rules. You may need to create additional structures\n",
    "\n",
    "- All ShopItems have an numeric id that can not be edited \n",
    "- All ShopItems have a price\n",
    "- All ShopItems have a description\n",
    "- Some ShopItems have a color\n",
    "- All ShopItems have a Category represented with an enum \n",
    "    - Possible Categories are `Shirts` `Shoes` `Pants` `Hats`\n",
    "- All ShopItems have a list of keywords used to help search for the ShopItem \n",
    "    - For Example A Ironman Tshirt may have keywords = [\"Marvel\", \"Endgame\", \"Ironman\",\"Character Tees\", \"Tony Stark\"]\n",
    "\n",
    "After Creating the `ShopItem` type create 3 items using this type"
   ]
  },
  {
   "cell_type": "code",
   "execution_count": 11,
   "id": "2898ec36",
   "metadata": {},
   "outputs": [
    {
     "name": "stdout",
     "output_type": "stream",
     "text": [
      "{\n",
      "  id: \u001b[33m1298\u001b[39m,\n",
      "  price: \u001b[33m12.99\u001b[39m,\n",
      "  description: \u001b[32m'Wide hat'\u001b[39m,\n",
      "  color: \u001b[32m'pink'\u001b[39m,\n",
      "  category: \u001b[33m3\u001b[39m,\n",
      "  keywords: [ \u001b[32m'wide'\u001b[39m, \u001b[32m'Mexican'\u001b[39m, \u001b[32m'brim'\u001b[39m ]\n",
      "}\n",
      "{\n",
      "  id: \u001b[33m9780\u001b[39m,\n",
      "  price: \u001b[33m120.99\u001b[39m,\n",
      "  description: \u001b[32m'Running shoes'\u001b[39m,\n",
      "  color: \u001b[32m'blue and gold'\u001b[39m,\n",
      "  category: \u001b[33m1\u001b[39m,\n",
      "  keywords: [ \u001b[32m'running'\u001b[39m, \u001b[32m'support'\u001b[39m, \u001b[32m'brooks'\u001b[39m, \u001b[32m'blue'\u001b[39m ]\n",
      "}\n",
      "{\n",
      "  id: \u001b[33m9870\u001b[39m,\n",
      "  price: \u001b[33m89.99\u001b[39m,\n",
      "  description: \u001b[32m'Denim pants'\u001b[39m,\n",
      "  category: \u001b[33m2\u001b[39m,\n",
      "  keywords: [ \u001b[32m'jeans'\u001b[39m, \u001b[32m'pants'\u001b[39m, \u001b[32m'Levi'\u001b[39m ]\n",
      "}\n"
     ]
    }
   ],
   "source": [
    "enum Category {Shirts, Shoes, Pants, Hats}\n",
    "\n",
    "type ShopItem = {\n",
    "    readonly id: number,\n",
    "    price: number,\n",
    "    description: string,\n",
    "    color?: string,\n",
    "    category: Category,\n",
    "    keywords: string[]\n",
    "}\n",
    "\n",
    "let sombrero: ShopItem = {\n",
    "    id: 1298,\n",
    "    price: 12.99,\n",
    "    description: 'Wide hat',\n",
    "    color: 'pink',\n",
    "    category: Category.Hats,\n",
    "    keywords: ['wide', 'Mexican', 'brim']\n",
    "}\n",
    "\n",
    "let brooksAdrenaline: ShopItem = {\n",
    "    id: 9780,\n",
    "    price: 120.99,\n",
    "    description: 'Running shoes',\n",
    "    color: 'blue and gold',\n",
    "    category: Category.Shoes,\n",
    "    keywords: ['running', 'support', 'brooks', 'blue']\n",
    "}\n",
    "\n",
    "let jeansLevi: ShopItem = {\n",
    "    id: 9870,\n",
    "    price: 89.99,\n",
    "    description: 'Denim pants',\n",
    "    category: Category.Pants,\n",
    "    keywords: ['jeans', 'pants', 'Levi']\n",
    "}\n",
    "\n",
    "console.log(sombrero)\n",
    "console.log(brooksAdrenaline)\n",
    "console.log(jeansLevi)"
   ]
  }
 ],
 "metadata": {
  "kernelspec": {
   "display_name": "TypeScript",
   "language": "typescript",
   "name": "tslab"
  },
  "language_info": {
   "codemirror_mode": {
    "mode": "typescript",
    "name": "javascript",
    "typescript": true
   },
   "file_extension": ".ts",
   "mimetype": "text/typescript",
   "name": "typescript",
   "version": "3.7.2"
  }
 },
 "nbformat": 4,
 "nbformat_minor": 5
}
